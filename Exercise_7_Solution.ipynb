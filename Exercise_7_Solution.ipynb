{
 "cells": [
  {
   "cell_type": "markdown",
   "metadata": {
    "toc": true
   },
   "source": [
    "<h1>Table of Contents<span class=\"tocSkip\"></span></h1>\n",
    "<div class=\"toc\"><ul class=\"toc-item\"><li><span><a href=\"#Overview\" data-toc-modified-id=\"Overview-1\"><span class=\"toc-item-num\">1&nbsp;&nbsp;</span>Overview</a></span></li><li><span><a href=\"#Objective\" data-toc-modified-id=\"Objective-2\"><span class=\"toc-item-num\">2&nbsp;&nbsp;</span>Objective</a></span></li><li><span><a href=\"#Data-Processing\" data-toc-modified-id=\"Data-Processing-3\"><span class=\"toc-item-num\">3&nbsp;&nbsp;</span>Data Processing</a></span><ul class=\"toc-item\"><li><span><a href=\"#Load-data\" data-toc-modified-id=\"Load-data-3.1\"><span class=\"toc-item-num\">3.1&nbsp;&nbsp;</span>Load data</a></span></li><li><span><a href=\"#Check-missing-values\" data-toc-modified-id=\"Check-missing-values-3.2\"><span class=\"toc-item-num\">3.2&nbsp;&nbsp;</span>Check missing values</a></span></li><li><span><a href=\"#Remove-rows-with-missing-values\" data-toc-modified-id=\"Remove-rows-with-missing-values-3.3\"><span class=\"toc-item-num\">3.3&nbsp;&nbsp;</span>Remove rows with missing values</a></span></li><li><span><a href=\"#Get-the-features-and-target\" data-toc-modified-id=\"Get-the-features-and-target-3.4\"><span class=\"toc-item-num\">3.4&nbsp;&nbsp;</span>Get the features and target</a></span></li><li><span><a href=\"#Check-categorical-features\" data-toc-modified-id=\"Check-categorical-features-3.5\"><span class=\"toc-item-num\">3.5&nbsp;&nbsp;</span>Check categorical features</a></span></li><li><span><a href=\"#Encode-categorical-features\" data-toc-modified-id=\"Encode-categorical-features-3.6\"><span class=\"toc-item-num\">3.6&nbsp;&nbsp;</span>Encode categorical features</a></span></li><li><span><a href=\"#Check-categorical-target\" data-toc-modified-id=\"Check-categorical-target-3.7\"><span class=\"toc-item-num\">3.7&nbsp;&nbsp;</span>Check categorical target</a></span></li><li><span><a href=\"#Encode-the-target\" data-toc-modified-id=\"Encode-the-target-3.8\"><span class=\"toc-item-num\">3.8&nbsp;&nbsp;</span>Encode the target</a></span></li><li><span><a href=\"#Over-sampling\" data-toc-modified-id=\"Over-sampling-3.9\"><span class=\"toc-item-num\">3.9&nbsp;&nbsp;</span>Over sampling</a></span></li></ul></li><li><span><a href=\"#Hyperparameter-tuning-and-model-selection\" data-toc-modified-id=\"Hyperparameter-tuning-and-model-selection-4\"><span class=\"toc-item-num\">4&nbsp;&nbsp;</span>Hyperparameter tuning and model selection</a></span><ul class=\"toc-item\"><li><span><a href=\"#Create-the-dictionary-of-classifiers\" data-toc-modified-id=\"Create-the-dictionary-of-classifiers-4.1\"><span class=\"toc-item-num\">4.1&nbsp;&nbsp;</span>Create the dictionary of classifiers</a></span></li><li><span><a href=\"#Create-the-dictionary-of-pipeline\" data-toc-modified-id=\"Create-the-dictionary-of-pipeline-4.2\"><span class=\"toc-item-num\">4.2&nbsp;&nbsp;</span>Create the dictionary of pipeline</a></span></li><li><span><a href=\"#Create-the-dictionary-of-parameter-grids\" data-toc-modified-id=\"Create-the-dictionary-of-parameter-grids-4.3\"><span class=\"toc-item-num\">4.3&nbsp;&nbsp;</span>Create the dictionary of parameter grids</a></span><ul class=\"toc-item\"><li><span><a href=\"#The-parameter-grid-for-logistic-regression\" data-toc-modified-id=\"The-parameter-grid-for-logistic-regression-4.3.1\"><span class=\"toc-item-num\">4.3.1&nbsp;&nbsp;</span>The parameter grid for logistic regression</a></span></li><li><span><a href=\"#The-parameter-grid-for-MLP\" data-toc-modified-id=\"The-parameter-grid-for-MLP-4.3.2\"><span class=\"toc-item-num\">4.3.2&nbsp;&nbsp;</span>The parameter grid for MLP</a></span></li><li><span><a href=\"#The-parameter-grid-for-decision-tree\" data-toc-modified-id=\"The-parameter-grid-for-decision-tree-4.3.3\"><span class=\"toc-item-num\">4.3.3&nbsp;&nbsp;</span>The parameter grid for decision tree</a></span></li><li><span><a href=\"#The-parameter-grid-for-random-forest\" data-toc-modified-id=\"The-parameter-grid-for-random-forest-4.3.4\"><span class=\"toc-item-num\">4.3.4&nbsp;&nbsp;</span>The parameter grid for random forest</a></span></li><li><span><a href=\"#The-parameter-grid-for-SVC\" data-toc-modified-id=\"The-parameter-grid-for-SVC-4.3.5\"><span class=\"toc-item-num\">4.3.5&nbsp;&nbsp;</span>The parameter grid for SVC</a></span></li><li><span><a href=\"#The-parameter-grid-for-KNN\" data-toc-modified-id=\"The-parameter-grid-for-KNN-4.3.6\"><span class=\"toc-item-num\">4.3.6&nbsp;&nbsp;</span>The parameter grid for KNN</a></span></li><li><span><a href=\"#The-parameter-grid-for-GNB\" data-toc-modified-id=\"The-parameter-grid-for-GNB-4.3.7\"><span class=\"toc-item-num\">4.3.7&nbsp;&nbsp;</span>The parameter grid for GNB</a></span></li></ul></li><li><span><a href=\"#Hyperparameter-tuning\" data-toc-modified-id=\"Hyperparameter-tuning-4.4\"><span class=\"toc-item-num\">4.4&nbsp;&nbsp;</span>Hyperparameter tuning</a></span></li><li><span><a href=\"#Model-selection\" data-toc-modified-id=\"Model-selection-4.5\"><span class=\"toc-item-num\">4.5&nbsp;&nbsp;</span>Model selection</a></span></li></ul></li><li><span><a href=\"#What-is-next?\" data-toc-modified-id=\"What-is-next?-5\"><span class=\"toc-item-num\">5&nbsp;&nbsp;</span>What is next?</a></span></li></ul></div>"
   ]
  },
  {
   "cell_type": "markdown",
   "metadata": {},
   "source": [
    "<b>\n",
    "\n",
    "<p>\n",
    "<center>\n",
    "<font size=\"5\">\n",
    "Machine Learning I (DATS 6202 - O10), Spring 2019\n",
    "</font>\n",
    "</center>\n",
    "</p>\n",
    "\n",
    "<p>\n",
    "<center>\n",
    "<font size=\"4\">\n",
    "Exercise 7 (Solution)\n",
    "</font>\n",
    "</center>\n",
    "</p>\n",
    "\n",
    "<p>\n",
    "<center>\n",
    "<font size=\"3\">\n",
    "Data Science, Columbian College of Arts & Sciences, George Washington University\n",
    "</font>\n",
    "</center>\n",
    "</p>\n",
    "\n",
    "<p>\n",
    "<center>\n",
    "<font size=\"3\">\n",
    "Author: Yuxiao Huang\n",
    "</font>\n",
    "</center>\n",
    "</p>\n",
    "\n",
    "</b>"
   ]
  },
  {
   "cell_type": "markdown",
   "metadata": {},
   "source": [
    "# Overview\n",
    "- Apply hyperparameter tuning and model selection to the following 7 classifers on [Congressional Voting Records Data](https://archive.ics.uci.edu/ml/datasets/congressional+voting+records)\n",
    "    - [Logistic Regression](https://scikit-learn.org/stable/modules/generated/sklearn.linear_model.LogisticRegression.html)\n",
    "    - [MLP](https://scikit-learn.org/stable/modules/generated/sklearn.neural_network.MLPClassifier.html)\n",
    "    - [Decision Tree](https://scikit-learn.org/stable/modules/generated/sklearn.tree.DecisionTreeClassifier.html)\n",
    "    - [Random Forest](https://scikit-learn.org/stable/modules/generated/sklearn.ensemble.RandomForestClassifier.html)\n",
    "    - [SVC](https://scikit-learn.org/stable/modules/generated/sklearn.svm.SVC.html)\n",
    "    - [KNN](https://scikit-learn.org/stable/modules/generated/sklearn.neighbors.KNeighborsClassifier.html)\n",
    "    - [GNB](https://scikit-learn.org/stable/modules/generated/sklearn.naive_bayes.GaussianNB.html)\n",
    "- Complete the missing parts indicated by # Implement me\n",
    "- Particularly, the code should\n",
    "    - be bug-free (while the output produced by your solution being the same as the provided output does not necessarily mean your code is bug-free, it is very likely that there is a bug in your code when the two kinds of output are different)\n",
    "    - be commented"
   ]
  },
  {
   "cell_type": "markdown",
   "metadata": {},
   "source": [
    "# Objective\n",
    "Students are expected to understand:\n",
    "- how to use the combination of Pipeline and GridSearchCV for hyperparameter tuning and model selection"
   ]
  },
  {
   "cell_type": "code",
   "execution_count": 1,
   "metadata": {
    "collapsed": true
   },
   "outputs": [],
   "source": [
    "import warnings\n",
    "warnings.filterwarnings(\"ignore\")"
   ]
  },
  {
   "cell_type": "markdown",
   "metadata": {},
   "source": [
    "# Data Processing"
   ]
  },
  {
   "cell_type": "markdown",
   "metadata": {},
   "source": [
    "## Load data"
   ]
  },
  {
   "cell_type": "code",
   "execution_count": 2,
   "metadata": {},
   "outputs": [
    {
     "data": {
      "text/html": [
       "<div>\n",
       "<style scoped>\n",
       "    .dataframe tbody tr th:only-of-type {\n",
       "        vertical-align: middle;\n",
       "    }\n",
       "\n",
       "    .dataframe tbody tr th {\n",
       "        vertical-align: top;\n",
       "    }\n",
       "\n",
       "    .dataframe thead th {\n",
       "        text-align: right;\n",
       "    }\n",
       "</style>\n",
       "<table border=\"1\" class=\"dataframe\">\n",
       "  <thead>\n",
       "    <tr style=\"text-align: right;\">\n",
       "      <th></th>\n",
       "      <th>target</th>\n",
       "      <th>handicapped-infants</th>\n",
       "      <th>water-project-cost-sharing</th>\n",
       "      <th>adoption-of-the-budget-resolution</th>\n",
       "      <th>physician-fee-freeze</th>\n",
       "      <th>el-salvador-aid</th>\n",
       "      <th>religious-groups-in-schools</th>\n",
       "      <th>anti-satellite-test-ban</th>\n",
       "      <th>aid-to-nicaraguan-contras</th>\n",
       "      <th>mx-missile</th>\n",
       "      <th>immigration</th>\n",
       "      <th>synfuels-corporation-cutback</th>\n",
       "      <th>education-spending</th>\n",
       "      <th>superfund-right-to-sue</th>\n",
       "      <th>crime</th>\n",
       "      <th>duty-free-exports</th>\n",
       "      <th>export-administration-act-south-africa</th>\n",
       "    </tr>\n",
       "  </thead>\n",
       "  <tbody>\n",
       "    <tr>\n",
       "      <th>0</th>\n",
       "      <td>republican</td>\n",
       "      <td>n</td>\n",
       "      <td>y</td>\n",
       "      <td>n</td>\n",
       "      <td>y</td>\n",
       "      <td>y</td>\n",
       "      <td>y</td>\n",
       "      <td>n</td>\n",
       "      <td>n</td>\n",
       "      <td>n</td>\n",
       "      <td>y</td>\n",
       "      <td>?</td>\n",
       "      <td>y</td>\n",
       "      <td>y</td>\n",
       "      <td>y</td>\n",
       "      <td>n</td>\n",
       "      <td>y</td>\n",
       "    </tr>\n",
       "    <tr>\n",
       "      <th>1</th>\n",
       "      <td>republican</td>\n",
       "      <td>n</td>\n",
       "      <td>y</td>\n",
       "      <td>n</td>\n",
       "      <td>y</td>\n",
       "      <td>y</td>\n",
       "      <td>y</td>\n",
       "      <td>n</td>\n",
       "      <td>n</td>\n",
       "      <td>n</td>\n",
       "      <td>n</td>\n",
       "      <td>n</td>\n",
       "      <td>y</td>\n",
       "      <td>y</td>\n",
       "      <td>y</td>\n",
       "      <td>n</td>\n",
       "      <td>?</td>\n",
       "    </tr>\n",
       "    <tr>\n",
       "      <th>2</th>\n",
       "      <td>democrat</td>\n",
       "      <td>?</td>\n",
       "      <td>y</td>\n",
       "      <td>y</td>\n",
       "      <td>?</td>\n",
       "      <td>y</td>\n",
       "      <td>y</td>\n",
       "      <td>n</td>\n",
       "      <td>n</td>\n",
       "      <td>n</td>\n",
       "      <td>n</td>\n",
       "      <td>y</td>\n",
       "      <td>n</td>\n",
       "      <td>y</td>\n",
       "      <td>y</td>\n",
       "      <td>n</td>\n",
       "      <td>n</td>\n",
       "    </tr>\n",
       "    <tr>\n",
       "      <th>3</th>\n",
       "      <td>democrat</td>\n",
       "      <td>n</td>\n",
       "      <td>y</td>\n",
       "      <td>y</td>\n",
       "      <td>n</td>\n",
       "      <td>?</td>\n",
       "      <td>y</td>\n",
       "      <td>n</td>\n",
       "      <td>n</td>\n",
       "      <td>n</td>\n",
       "      <td>n</td>\n",
       "      <td>y</td>\n",
       "      <td>n</td>\n",
       "      <td>y</td>\n",
       "      <td>n</td>\n",
       "      <td>n</td>\n",
       "      <td>y</td>\n",
       "    </tr>\n",
       "    <tr>\n",
       "      <th>4</th>\n",
       "      <td>democrat</td>\n",
       "      <td>y</td>\n",
       "      <td>y</td>\n",
       "      <td>y</td>\n",
       "      <td>n</td>\n",
       "      <td>y</td>\n",
       "      <td>y</td>\n",
       "      <td>n</td>\n",
       "      <td>n</td>\n",
       "      <td>n</td>\n",
       "      <td>n</td>\n",
       "      <td>y</td>\n",
       "      <td>?</td>\n",
       "      <td>y</td>\n",
       "      <td>y</td>\n",
       "      <td>y</td>\n",
       "      <td>y</td>\n",
       "    </tr>\n",
       "  </tbody>\n",
       "</table>\n",
       "</div>"
      ],
      "text/plain": [
       "       target handicapped-infants water-project-cost-sharing  \\\n",
       "0  republican                   n                          y   \n",
       "1  republican                   n                          y   \n",
       "2    democrat                   ?                          y   \n",
       "3    democrat                   n                          y   \n",
       "4    democrat                   y                          y   \n",
       "\n",
       "  adoption-of-the-budget-resolution physician-fee-freeze el-salvador-aid  \\\n",
       "0                                 n                    y               y   \n",
       "1                                 n                    y               y   \n",
       "2                                 y                    ?               y   \n",
       "3                                 y                    n               ?   \n",
       "4                                 y                    n               y   \n",
       "\n",
       "  religious-groups-in-schools anti-satellite-test-ban  \\\n",
       "0                           y                       n   \n",
       "1                           y                       n   \n",
       "2                           y                       n   \n",
       "3                           y                       n   \n",
       "4                           y                       n   \n",
       "\n",
       "  aid-to-nicaraguan-contras mx-missile immigration  \\\n",
       "0                         n          n           y   \n",
       "1                         n          n           n   \n",
       "2                         n          n           n   \n",
       "3                         n          n           n   \n",
       "4                         n          n           n   \n",
       "\n",
       "  synfuels-corporation-cutback education-spending superfund-right-to-sue  \\\n",
       "0                            ?                  y                      y   \n",
       "1                            n                  y                      y   \n",
       "2                            y                  n                      y   \n",
       "3                            y                  n                      y   \n",
       "4                            y                  ?                      y   \n",
       "\n",
       "  crime duty-free-exports export-administration-act-south-africa  \n",
       "0     y                 n                                      y  \n",
       "1     y                 n                                      ?  \n",
       "2     y                 n                                      n  \n",
       "3     n                 n                                      y  \n",
       "4     y                 y                                      y  "
      ]
     },
     "execution_count": 2,
     "metadata": {},
     "output_type": "execute_result"
    }
   ],
   "source": [
    "import pandas as pd\n",
    "\n",
    "# Load data\n",
    "# Implement me\n",
    "df = pd.read_csv('https://archive.ics.uci.edu/ml/machine-learning-databases/voting-records/house-votes-84.data', \n",
    "                 header=None)\n",
    "\n",
    "# Specify the name of the columns\n",
    "df.columns = ['target', 'handicapped-infants', 'water-project-cost-sharing', 'adoption-of-the-budget-resolution', 'physician-fee-freeze', 'el-salvador-aid', 'religious-groups-in-schools', 'anti-satellite-test-ban', 'aid-to-nicaraguan-contras', 'mx-missile', 'immigration', 'synfuels-corporation-cutback', 'education-spending', 'superfund-right-to-sue', 'crime', 'duty-free-exports', 'export-administration-act-south-africa']\n",
    "\n",
    "# Specify the name of the target\n",
    "# Implement me\n",
    "target = 'target'\n",
    "\n",
    "df.head()"
   ]
  },
  {
   "cell_type": "markdown",
   "metadata": {},
   "source": [
    "## Check missing values"
   ]
  },
  {
   "cell_type": "code",
   "execution_count": 3,
   "metadata": {},
   "outputs": [
    {
     "data": {
      "text/plain": [
       "target                                      0\n",
       "handicapped-infants                        12\n",
       "water-project-cost-sharing                 48\n",
       "adoption-of-the-budget-resolution          11\n",
       "physician-fee-freeze                       11\n",
       "el-salvador-aid                            15\n",
       "religious-groups-in-schools                11\n",
       "anti-satellite-test-ban                    14\n",
       "aid-to-nicaraguan-contras                  15\n",
       "mx-missile                                 22\n",
       "immigration                                 7\n",
       "synfuels-corporation-cutback               21\n",
       "education-spending                         31\n",
       "superfund-right-to-sue                     25\n",
       "crime                                      17\n",
       "duty-free-exports                          28\n",
       "export-administration-act-south-africa    104\n",
       "dtype: int64"
      ]
     },
     "execution_count": 3,
     "metadata": {},
     "output_type": "execute_result"
    }
   ],
   "source": [
    "import numpy as np\n",
    "\n",
    "# Replace ? with np.NaN\n",
    "# Implement me\n",
    "df = df.replace('?', np.NaN)\n",
    "\n",
    "# Check NA\n",
    "df.isna().sum()"
   ]
  },
  {
   "cell_type": "markdown",
   "metadata": {},
   "source": [
    "## Remove rows with missing values"
   ]
  },
  {
   "cell_type": "code",
   "execution_count": 4,
   "metadata": {},
   "outputs": [
    {
     "name": "stdout",
     "output_type": "stream",
     "text": [
      "Number of rows before removing rows with missing values: 435\n",
      "Number of rows after removing rows with missing values: 232\n"
     ]
    }
   ],
   "source": [
    "print('Number of rows before removing rows with missing values:', str(df.shape[0]))\n",
    "\n",
    "# Remove rows with np.NaN\n",
    "# Implement me\n",
    "df = df.dropna(how='any')\n",
    "\n",
    "print('Number of rows after removing rows with missing values:', str(df.shape[0]))"
   ]
  },
  {
   "cell_type": "markdown",
   "metadata": {},
   "source": [
    "## Get the features and target"
   ]
  },
  {
   "cell_type": "code",
   "execution_count": 5,
   "metadata": {
    "collapsed": true
   },
   "outputs": [],
   "source": [
    "# Implement me\n",
    "X = df.drop(columns=[target])\n",
    "y = df[target]"
   ]
  },
  {
   "cell_type": "markdown",
   "metadata": {},
   "source": [
    "## Check categorical features"
   ]
  },
  {
   "cell_type": "code",
   "execution_count": 6,
   "metadata": {
    "scrolled": true
   },
   "outputs": [
    {
     "name": "stdout",
     "output_type": "stream",
     "text": [
      "handicapped-infants:\n",
      "n    136\n",
      "y     96\n",
      "Name: handicapped-infants, dtype: int64\n",
      "\n",
      "water-project-cost-sharing:\n",
      "n    125\n",
      "y    107\n",
      "Name: water-project-cost-sharing, dtype: int64\n",
      "\n",
      "adoption-of-the-budget-resolution:\n",
      "y    123\n",
      "n    109\n",
      "Name: adoption-of-the-budget-resolution, dtype: int64\n",
      "\n",
      "physician-fee-freeze:\n",
      "n    119\n",
      "y    113\n",
      "Name: physician-fee-freeze, dtype: int64\n",
      "\n",
      "el-salvador-aid:\n",
      "y    128\n",
      "n    104\n",
      "Name: el-salvador-aid, dtype: int64\n",
      "\n",
      "religious-groups-in-schools:\n",
      "y    149\n",
      "n     83\n",
      "Name: religious-groups-in-schools, dtype: int64\n",
      "\n",
      "anti-satellite-test-ban:\n",
      "y    124\n",
      "n    108\n",
      "Name: anti-satellite-test-ban, dtype: int64\n",
      "\n",
      "aid-to-nicaraguan-contras:\n",
      "y    119\n",
      "n    113\n",
      "Name: aid-to-nicaraguan-contras, dtype: int64\n",
      "\n",
      "mx-missile:\n",
      "n    119\n",
      "y    113\n",
      "Name: mx-missile, dtype: int64\n",
      "\n",
      "immigration:\n",
      "y    128\n",
      "n    104\n",
      "Name: immigration, dtype: int64\n",
      "\n",
      "synfuels-corporation-cutback:\n",
      "n    152\n",
      "y     80\n",
      "Name: synfuels-corporation-cutback, dtype: int64\n",
      "\n",
      "education-spending:\n",
      "n    124\n",
      "y    108\n",
      "Name: education-spending, dtype: int64\n",
      "\n",
      "superfund-right-to-sue:\n",
      "y    127\n",
      "n    105\n",
      "Name: superfund-right-to-sue, dtype: int64\n",
      "\n",
      "crime:\n",
      "y    149\n",
      "n     83\n",
      "Name: crime, dtype: int64\n",
      "\n",
      "duty-free-exports:\n",
      "n    146\n",
      "y     86\n",
      "Name: duty-free-exports, dtype: int64\n",
      "\n",
      "export-administration-act-south-africa:\n",
      "y    189\n",
      "n     43\n",
      "Name: export-administration-act-south-africa, dtype: int64\n",
      "\n"
     ]
    }
   ],
   "source": [
    "# Print the unique value and their number for each feature\n",
    "for j in range(X.shape[1]):\n",
    "    print(X.columns[j] + ':')\n",
    "    print(X.iloc[:, j].value_counts(), end='\\n\\n')"
   ]
  },
  {
   "cell_type": "markdown",
   "metadata": {},
   "source": [
    "## Encode categorical features"
   ]
  },
  {
   "cell_type": "code",
   "execution_count": 7,
   "metadata": {},
   "outputs": [
    {
     "data": {
      "text/html": [
       "<div>\n",
       "<style scoped>\n",
       "    .dataframe tbody tr th:only-of-type {\n",
       "        vertical-align: middle;\n",
       "    }\n",
       "\n",
       "    .dataframe tbody tr th {\n",
       "        vertical-align: top;\n",
       "    }\n",
       "\n",
       "    .dataframe thead th {\n",
       "        text-align: right;\n",
       "    }\n",
       "</style>\n",
       "<table border=\"1\" class=\"dataframe\">\n",
       "  <thead>\n",
       "    <tr style=\"text-align: right;\">\n",
       "      <th></th>\n",
       "      <th>handicapped-infants_n</th>\n",
       "      <th>handicapped-infants_y</th>\n",
       "      <th>water-project-cost-sharing_n</th>\n",
       "      <th>water-project-cost-sharing_y</th>\n",
       "      <th>adoption-of-the-budget-resolution_n</th>\n",
       "      <th>adoption-of-the-budget-resolution_y</th>\n",
       "      <th>physician-fee-freeze_n</th>\n",
       "      <th>physician-fee-freeze_y</th>\n",
       "      <th>el-salvador-aid_n</th>\n",
       "      <th>el-salvador-aid_y</th>\n",
       "      <th>...</th>\n",
       "      <th>education-spending_n</th>\n",
       "      <th>education-spending_y</th>\n",
       "      <th>superfund-right-to-sue_n</th>\n",
       "      <th>superfund-right-to-sue_y</th>\n",
       "      <th>crime_n</th>\n",
       "      <th>crime_y</th>\n",
       "      <th>duty-free-exports_n</th>\n",
       "      <th>duty-free-exports_y</th>\n",
       "      <th>export-administration-act-south-africa_n</th>\n",
       "      <th>export-administration-act-south-africa_y</th>\n",
       "    </tr>\n",
       "  </thead>\n",
       "  <tbody>\n",
       "    <tr>\n",
       "      <th>5</th>\n",
       "      <td>1</td>\n",
       "      <td>0</td>\n",
       "      <td>0</td>\n",
       "      <td>1</td>\n",
       "      <td>0</td>\n",
       "      <td>1</td>\n",
       "      <td>1</td>\n",
       "      <td>0</td>\n",
       "      <td>0</td>\n",
       "      <td>1</td>\n",
       "      <td>...</td>\n",
       "      <td>1</td>\n",
       "      <td>0</td>\n",
       "      <td>0</td>\n",
       "      <td>1</td>\n",
       "      <td>0</td>\n",
       "      <td>1</td>\n",
       "      <td>0</td>\n",
       "      <td>1</td>\n",
       "      <td>0</td>\n",
       "      <td>1</td>\n",
       "    </tr>\n",
       "    <tr>\n",
       "      <th>8</th>\n",
       "      <td>1</td>\n",
       "      <td>0</td>\n",
       "      <td>0</td>\n",
       "      <td>1</td>\n",
       "      <td>1</td>\n",
       "      <td>0</td>\n",
       "      <td>0</td>\n",
       "      <td>1</td>\n",
       "      <td>0</td>\n",
       "      <td>1</td>\n",
       "      <td>...</td>\n",
       "      <td>0</td>\n",
       "      <td>1</td>\n",
       "      <td>0</td>\n",
       "      <td>1</td>\n",
       "      <td>0</td>\n",
       "      <td>1</td>\n",
       "      <td>1</td>\n",
       "      <td>0</td>\n",
       "      <td>0</td>\n",
       "      <td>1</td>\n",
       "    </tr>\n",
       "    <tr>\n",
       "      <th>19</th>\n",
       "      <td>0</td>\n",
       "      <td>1</td>\n",
       "      <td>0</td>\n",
       "      <td>1</td>\n",
       "      <td>0</td>\n",
       "      <td>1</td>\n",
       "      <td>1</td>\n",
       "      <td>0</td>\n",
       "      <td>1</td>\n",
       "      <td>0</td>\n",
       "      <td>...</td>\n",
       "      <td>1</td>\n",
       "      <td>0</td>\n",
       "      <td>1</td>\n",
       "      <td>0</td>\n",
       "      <td>1</td>\n",
       "      <td>0</td>\n",
       "      <td>0</td>\n",
       "      <td>1</td>\n",
       "      <td>0</td>\n",
       "      <td>1</td>\n",
       "    </tr>\n",
       "    <tr>\n",
       "      <th>23</th>\n",
       "      <td>0</td>\n",
       "      <td>1</td>\n",
       "      <td>0</td>\n",
       "      <td>1</td>\n",
       "      <td>0</td>\n",
       "      <td>1</td>\n",
       "      <td>1</td>\n",
       "      <td>0</td>\n",
       "      <td>1</td>\n",
       "      <td>0</td>\n",
       "      <td>...</td>\n",
       "      <td>1</td>\n",
       "      <td>0</td>\n",
       "      <td>1</td>\n",
       "      <td>0</td>\n",
       "      <td>1</td>\n",
       "      <td>0</td>\n",
       "      <td>0</td>\n",
       "      <td>1</td>\n",
       "      <td>0</td>\n",
       "      <td>1</td>\n",
       "    </tr>\n",
       "    <tr>\n",
       "      <th>25</th>\n",
       "      <td>0</td>\n",
       "      <td>1</td>\n",
       "      <td>1</td>\n",
       "      <td>0</td>\n",
       "      <td>0</td>\n",
       "      <td>1</td>\n",
       "      <td>1</td>\n",
       "      <td>0</td>\n",
       "      <td>1</td>\n",
       "      <td>0</td>\n",
       "      <td>...</td>\n",
       "      <td>1</td>\n",
       "      <td>0</td>\n",
       "      <td>1</td>\n",
       "      <td>0</td>\n",
       "      <td>1</td>\n",
       "      <td>0</td>\n",
       "      <td>0</td>\n",
       "      <td>1</td>\n",
       "      <td>0</td>\n",
       "      <td>1</td>\n",
       "    </tr>\n",
       "  </tbody>\n",
       "</table>\n",
       "<p>5 rows × 32 columns</p>\n",
       "</div>"
      ],
      "text/plain": [
       "    handicapped-infants_n  handicapped-infants_y  \\\n",
       "5                       1                      0   \n",
       "8                       1                      0   \n",
       "19                      0                      1   \n",
       "23                      0                      1   \n",
       "25                      0                      1   \n",
       "\n",
       "    water-project-cost-sharing_n  water-project-cost-sharing_y  \\\n",
       "5                              0                             1   \n",
       "8                              0                             1   \n",
       "19                             0                             1   \n",
       "23                             0                             1   \n",
       "25                             1                             0   \n",
       "\n",
       "    adoption-of-the-budget-resolution_n  adoption-of-the-budget-resolution_y  \\\n",
       "5                                     0                                    1   \n",
       "8                                     1                                    0   \n",
       "19                                    0                                    1   \n",
       "23                                    0                                    1   \n",
       "25                                    0                                    1   \n",
       "\n",
       "    physician-fee-freeze_n  physician-fee-freeze_y  el-salvador-aid_n  \\\n",
       "5                        1                       0                  0   \n",
       "8                        0                       1                  0   \n",
       "19                       1                       0                  1   \n",
       "23                       1                       0                  1   \n",
       "25                       1                       0                  1   \n",
       "\n",
       "    el-salvador-aid_y                    ...                     \\\n",
       "5                   1                    ...                      \n",
       "8                   1                    ...                      \n",
       "19                  0                    ...                      \n",
       "23                  0                    ...                      \n",
       "25                  0                    ...                      \n",
       "\n",
       "    education-spending_n  education-spending_y  superfund-right-to-sue_n  \\\n",
       "5                      1                     0                         0   \n",
       "8                      0                     1                         0   \n",
       "19                     1                     0                         1   \n",
       "23                     1                     0                         1   \n",
       "25                     1                     0                         1   \n",
       "\n",
       "    superfund-right-to-sue_y  crime_n  crime_y  duty-free-exports_n  \\\n",
       "5                          1        0        1                    0   \n",
       "8                          1        0        1                    1   \n",
       "19                         0        1        0                    0   \n",
       "23                         0        1        0                    0   \n",
       "25                         0        1        0                    0   \n",
       "\n",
       "    duty-free-exports_y  export-administration-act-south-africa_n  \\\n",
       "5                     1                                         0   \n",
       "8                     0                                         0   \n",
       "19                    1                                         0   \n",
       "23                    1                                         0   \n",
       "25                    1                                         0   \n",
       "\n",
       "    export-administration-act-south-africa_y  \n",
       "5                                          1  \n",
       "8                                          1  \n",
       "19                                         1  \n",
       "23                                         1  \n",
       "25                                         1  \n",
       "\n",
       "[5 rows x 32 columns]"
      ]
     },
     "execution_count": 7,
     "metadata": {},
     "output_type": "execute_result"
    }
   ],
   "source": [
    "import pandas as pd\n",
    "\n",
    "# Implement me\n",
    "X = pd.get_dummies(X, columns=X.columns)\n",
    "X.head()"
   ]
  },
  {
   "cell_type": "markdown",
   "metadata": {},
   "source": [
    "## Check categorical target"
   ]
  },
  {
   "cell_type": "code",
   "execution_count": 8,
   "metadata": {
    "scrolled": true
   },
   "outputs": [
    {
     "data": {
      "text/plain": [
       "democrat      124\n",
       "republican    108\n",
       "Name: target, dtype: int64"
      ]
     },
     "execution_count": 8,
     "metadata": {},
     "output_type": "execute_result"
    }
   ],
   "source": [
    "# Print the unique value and their number for the target\n",
    "y.value_counts()"
   ]
  },
  {
   "cell_type": "markdown",
   "metadata": {},
   "source": [
    "## Encode the target"
   ]
  },
  {
   "cell_type": "code",
   "execution_count": 9,
   "metadata": {},
   "outputs": [
    {
     "data": {
      "text/plain": [
       "0    124\n",
       "1    108\n",
       "Name: target, dtype: int64"
      ]
     },
     "execution_count": 9,
     "metadata": {},
     "output_type": "execute_result"
    }
   ],
   "source": [
    "from sklearn.preprocessing import LabelEncoder\n",
    "\n",
    "# Implement me\n",
    "le = LabelEncoder()\n",
    "y = le.fit_transform(y)\n",
    "\n",
    "pd.DataFrame(data=y, columns=[target])[target].value_counts()"
   ]
  },
  {
   "cell_type": "markdown",
   "metadata": {},
   "source": [
    "## Over sampling"
   ]
  },
  {
   "cell_type": "code",
   "execution_count": 10,
   "metadata": {
    "scrolled": true
   },
   "outputs": [
    {
     "data": {
      "text/plain": [
       "1    124\n",
       "0    124\n",
       "Name: target, dtype: int64"
      ]
     },
     "execution_count": 10,
     "metadata": {},
     "output_type": "execute_result"
    }
   ],
   "source": [
    "from imblearn.over_sampling import RandomOverSampler\n",
    "\n",
    "# RandomOverSampler (with random_state=0)\n",
    "# Implement me\n",
    "ros = RandomOverSampler(random_state=0)\n",
    "X, y = ros.fit_sample(X, y)\n",
    "\n",
    "pd.DataFrame(data=y, columns=[target])[target].value_counts()"
   ]
  },
  {
   "cell_type": "markdown",
   "metadata": {},
   "source": [
    "# Hyperparameter tuning and model selection\n",
    "In this section\n",
    "- we first use the combination of Pipeline and GridSearchCV to fine tune the hyperparameters of 7 classifiers\n",
    "- we then select the best model across the 7 classifiers."
   ]
  },
  {
   "cell_type": "markdown",
   "metadata": {},
   "source": [
    "## Create the dictionary of classifiers\n",
    "In the dictionary:\n",
    "- the key is the acronym of the classifier\n",
    "- the value is the classifier (with random_state=0)"
   ]
  },
  {
   "cell_type": "code",
   "execution_count": 11,
   "metadata": {
    "collapsed": true
   },
   "outputs": [],
   "source": [
    "from sklearn.linear_model import LogisticRegression\n",
    "from sklearn.neural_network import MLPClassifier\n",
    "from sklearn.tree import DecisionTreeClassifier\n",
    "from sklearn.ensemble import RandomForestClassifier\n",
    "from sklearn.svm import SVC\n",
    "from sklearn.neighbors import KNeighborsClassifier\n",
    "from sklearn.naive_bayes import GaussianNB\n",
    "\n",
    "clfs = {'lr': LogisticRegression(random_state=0),\n",
    "        'mlp': MLPClassifier(random_state=0),\n",
    "        'dt': DecisionTreeClassifier(random_state=0),\n",
    "        'rf': RandomForestClassifier(random_state=0),\n",
    "        'svc': SVC(random_state=0),\n",
    "        'knn': KNeighborsClassifier(),\n",
    "        'gnb': GaussianNB()}"
   ]
  },
  {
   "cell_type": "markdown",
   "metadata": {},
   "source": [
    "## Create the dictionary of pipeline\n",
    "In the dictionary:\n",
    "- the key is the acronym of the classifier\n",
    "- the value is the pipeline (with StandardScaler and the classifier)"
   ]
  },
  {
   "cell_type": "code",
   "execution_count": 12,
   "metadata": {
    "collapsed": true
   },
   "outputs": [],
   "source": [
    "from sklearn.pipeline import Pipeline\n",
    "from sklearn.preprocessing import StandardScaler\n",
    "\n",
    "pipe_clfs = {}\n",
    "\n",
    "for name, clf in clfs.items():\n",
    "    # Implement me\n",
    "    pipe_clfs[name] = Pipeline([('StandardScaler', StandardScaler()), ('clf', clf)])"
   ]
  },
  {
   "cell_type": "markdown",
   "metadata": {},
   "source": [
    "## Create the dictionary of parameter grids\n",
    "In the dictionary:\n",
    "- the key is the acronym of the classifier\n",
    "- the value is the parameter grid of the classifier"
   ]
  },
  {
   "cell_type": "code",
   "execution_count": 13,
   "metadata": {
    "collapsed": true
   },
   "outputs": [],
   "source": [
    "param_grids = {}"
   ]
  },
  {
   "cell_type": "markdown",
   "metadata": {},
   "source": [
    "### The parameter grid for logistic regression\n",
    "The hyperparameters we want to fine tune are:\n",
    "- multi_class\n",
    "- solver\n",
    "- C\n",
    "\n",
    "Here we need to use two dictionaries in the parameter grid since 'multinomial' (multi_class) does not support 'liblinear' (solver). See details of the meaning of the hyperparametes in [sklearn logistic regression documentation](http://scikit-learn.org/stable/modules/generated/sklearn.linear_model.LogisticRegression.html)"
   ]
  },
  {
   "cell_type": "code",
   "execution_count": 14,
   "metadata": {
    "collapsed": true
   },
   "outputs": [],
   "source": [
    "C_range = [10 ** i for i in range(-4, 5)]\n",
    "\n",
    "param_grid = [{'clf__multi_class': ['ovr'], \n",
    "               'clf__solver': ['newton-cg', 'lbfgs', 'liblinear', 'sag', 'saga'],\n",
    "               'clf__C': C_range},\n",
    "              \n",
    "              {'clf__multi_class': ['multinomial'],\n",
    "               'clf__solver': ['newton-cg', 'lbfgs', 'sag', 'saga'],\n",
    "               'clf__C': C_range}]\n",
    "\n",
    "# Implement me\n",
    "param_grids['lr'] = param_grid"
   ]
  },
  {
   "cell_type": "markdown",
   "metadata": {},
   "source": [
    "### The parameter grid for MLP\n",
    "The hyperparameters we want to fine tune are:\n",
    "- hidden_layer_sizes\n",
    "- activation\n",
    "\n",
    "See details of the meaning of the hyperparametes in [sklearn multi-layer perceptron documentation](http://scikit-learn.org/stable/modules/generated/sklearn.neural_network.MLPClassifier.html#sklearn.neural_network.MLPClassifier)"
   ]
  },
  {
   "cell_type": "code",
   "execution_count": 15,
   "metadata": {
    "collapsed": true
   },
   "outputs": [],
   "source": [
    "param_grid = [{'clf__hidden_layer_sizes': [10, 100, 200],\n",
    "               'clf__activation': ['identity', 'logistic', 'tanh', 'relu']}]\n",
    "\n",
    "# Implement me\n",
    "param_grids['mlp'] = param_grid"
   ]
  },
  {
   "cell_type": "markdown",
   "metadata": {},
   "source": [
    "### The parameter grid for decision tree\n",
    "The hyperparameters we want to fine tune are:\n",
    "- min_samples_split\n",
    "- min_samples_leaf\n",
    "\n",
    "See details of the meaning of the hyperparametes in [sklearn decision tree documentation](http://scikit-learn.org/stable/modules/generated/sklearn.tree.DecisionTreeClassifier.html#sklearn.tree.DecisionTreeClassifier)"
   ]
  },
  {
   "cell_type": "code",
   "execution_count": 16,
   "metadata": {
    "collapsed": true
   },
   "outputs": [],
   "source": [
    "param_grid = [{'clf__min_samples_split': [2, 10, 30],\n",
    "               'clf__min_samples_leaf': [1, 10, 30]}]\n",
    "\n",
    "# Implement me\n",
    "param_grids['dt'] = param_grid"
   ]
  },
  {
   "cell_type": "markdown",
   "metadata": {},
   "source": [
    "### The parameter grid for random forest\n",
    "The hyperparameters we want to fine tune are:\n",
    "- n_estimators\n",
    "- min_samples_split\n",
    "- min_samples_leaf\n",
    "\n",
    "See details of the meaning of the hyperparametes in [sklearn random forest documentation](http://scikit-learn.org/stable/modules/generated/sklearn.ensemble.RandomForestClassifier.html)"
   ]
  },
  {
   "cell_type": "code",
   "execution_count": 17,
   "metadata": {
    "collapsed": true
   },
   "outputs": [],
   "source": [
    "param_grid = [{'clf__n_estimators': [2, 10, 30],\n",
    "               'clf__min_samples_split': [2, 10, 30],\n",
    "               'clf__min_samples_leaf': [1, 10, 30]}]\n",
    "\n",
    "# Implement me\n",
    "param_grids['rf'] = param_grid"
   ]
  },
  {
   "cell_type": "markdown",
   "metadata": {},
   "source": [
    "### The parameter grid for SVC\n",
    "The hyperparameters we want to fine tune are:\n",
    "- C\n",
    "- gamma\n",
    "- kernel\n",
    "\n",
    "See details of the meaning of the hyperparametes in [sklearn SVC documentation](http://scikit-learn.org/stable/modules/generated/sklearn.svm.SVC.html)"
   ]
  },
  {
   "cell_type": "code",
   "execution_count": 18,
   "metadata": {
    "collapsed": true
   },
   "outputs": [],
   "source": [
    "param_grid = [{'clf__C': [0.01, 0.1, 1, 10, 100],\n",
    "               'clf__gamma': ['auto', 'scale'],\n",
    "               'clf__kernel': ['linear', 'poly', 'rbf', 'sigmoid']}]\n",
    "\n",
    "# Implement me\n",
    "param_grids['svc'] = param_grid"
   ]
  },
  {
   "cell_type": "markdown",
   "metadata": {},
   "source": [
    "### The parameter grid for KNN\n",
    "The hyperparameters we want to fine tune are:\n",
    "- n_neighbors\n",
    "\n",
    "See details of the meaning of the hyperparametes in [sklearn KNN documentation](https://scikit-learn.org/stable/modules/generated/sklearn.neighbors.KNeighborsClassifier.html)"
   ]
  },
  {
   "cell_type": "code",
   "execution_count": 19,
   "metadata": {
    "collapsed": true
   },
   "outputs": [],
   "source": [
    "param_grid = [{'clf__n_neighbors': list(range(1, 11))}]\n",
    "\n",
    "# Implement me\n",
    "param_grids['knn'] = param_grid"
   ]
  },
  {
   "cell_type": "markdown",
   "metadata": {},
   "source": [
    "### The parameter grid for GNB\n",
    "The hyperparameters we want to fine tune are:\n",
    "- var_smoothing\n",
    "\n",
    "See details of the meaning of the hyperparametes in [sklearn GNB documentation](https://scikit-learn.org/stable/modules/generated/sklearn.naive_bayes.GaussianNB.html)"
   ]
  },
  {
   "cell_type": "code",
   "execution_count": 20,
   "metadata": {
    "collapsed": true
   },
   "outputs": [],
   "source": [
    "param_grid = [{'clf__var_smoothing': [10 ** i for i in range(-10, -7)]}]\n",
    "\n",
    "# Implement me\n",
    "param_grids['gnb'] = param_grid"
   ]
  },
  {
   "cell_type": "markdown",
   "metadata": {},
   "source": [
    "## Hyperparameter tuning\n",
    "Here we use two functions for hyperparameter tuning:\n",
    "- [GridSearchCV](http://scikit-learn.org/stable/modules/generated/sklearn.model_selection.GridSearchCV.html): Exhaustive search over specified parameter values for an estimator\n",
    "- [StratifiedKFold](http://scikit-learn.org/stable/modules/generated/sklearn.model_selection.StratifiedKFold.html): Stratified K-Folds cross-validator"
   ]
  },
  {
   "cell_type": "code",
   "execution_count": 21,
   "metadata": {
    "collapsed": true
   },
   "outputs": [],
   "source": [
    "import warnings\n",
    "warnings.filterwarnings('ignore')"
   ]
  },
  {
   "cell_type": "code",
   "execution_count": 22,
   "metadata": {
    "collapsed": true,
    "scrolled": false
   },
   "outputs": [],
   "source": [
    "from sklearn.model_selection import GridSearchCV\n",
    "from sklearn.model_selection import StratifiedKFold\n",
    "\n",
    "# The list of [best_score_, best_params_, best_estimator_]\n",
    "best_score_param_estimators = []\n",
    "\n",
    "# For each classifier\n",
    "for name in pipe_clfs.keys():\n",
    "    # GridSearchCV\n",
    "    # Implement me\n",
    "    gs = GridSearchCV(estimator=pipe_clfs[name],\n",
    "                      param_grid=param_grids[name],\n",
    "                      scoring='accuracy',\n",
    "                      n_jobs=-1,\n",
    "                      cv=StratifiedKFold(n_splits=10,\n",
    "                                         shuffle=True,\n",
    "                                         random_state=0))\n",
    "    # Fit the pipeline\n",
    "    # Implement me\n",
    "    gs = gs.fit(X, y)\n",
    "    \n",
    "    # Update best_score_param_estimators\n",
    "    best_score_param_estimators.append([gs.best_score_, gs.best_params_, gs.best_estimator_])"
   ]
  },
  {
   "cell_type": "markdown",
   "metadata": {},
   "source": [
    "## Model selection"
   ]
  },
  {
   "cell_type": "code",
   "execution_count": 23,
   "metadata": {
    "scrolled": true
   },
   "outputs": [
    {
     "name": "stdout",
     "output_type": "stream",
     "text": [
      "[0.9717741935483871, {'clf__min_samples_leaf': 1, 'clf__min_samples_split': 30}, <class 'sklearn.tree.tree.DecisionTreeClassifier'>]\n",
      "\n",
      "[0.9717741935483871, {'clf__min_samples_leaf': 1, 'clf__min_samples_split': 10, 'clf__n_estimators': 2}, <class 'sklearn.ensemble.forest.RandomForestClassifier'>]\n",
      "\n",
      "[0.9717741935483871, {'clf__C': 0.01, 'clf__gamma': 'auto', 'clf__kernel': 'linear'}, <class 'sklearn.svm.classes.SVC'>]\n",
      "\n",
      "[0.9596774193548387, {'clf__C': 0.1, 'clf__multi_class': 'ovr', 'clf__solver': 'newton-cg'}, <class 'sklearn.linear_model.logistic.LogisticRegression'>]\n",
      "\n",
      "[0.9596774193548387, {'clf__activation': 'identity', 'clf__hidden_layer_sizes': 10}, <class 'sklearn.neural_network.multilayer_perceptron.MLPClassifier'>]\n",
      "\n",
      "[0.9435483870967742, {'clf__var_smoothing': 1e-10}, <class 'sklearn.naive_bayes.GaussianNB'>]\n",
      "\n",
      "[0.9274193548387096, {'clf__n_neighbors': 3}, <class 'sklearn.neighbors.classification.KNeighborsClassifier'>]\n",
      "\n"
     ]
    }
   ],
   "source": [
    "# Sort best_score_param_estimators in descending order of the best_score_\n",
    "# Implement me\n",
    "best_score_param_estimators = sorted(best_score_param_estimators, key=lambda x : x[0], reverse=True)\n",
    "\n",
    "# For each [best_score_, best_params_, best_estimator_]\n",
    "for best_score_param_estimator in best_score_param_estimators:\n",
    "    # Print out [best_score_, best_params_, best_estimator_], where best_estimator_ is a pipeline\n",
    "    # Since we only print out the type of classifier of the pipeline\n",
    "    print([best_score_param_estimator[0], best_score_param_estimator[1], type(best_score_param_estimator[2].named_steps['clf'])], end='\\n\\n')"
   ]
  },
  {
   "cell_type": "markdown",
   "metadata": {},
   "source": [
    "# What is next?\n",
    "After selecting the best model, we can use it to predict the class label of new samples. These samples could be the ones without class labels in [kaggle competitions](https://www.kaggle.com/competitions).\n",
    "\n",
    "To illustrate how this can be done, here we generate two new samples."
   ]
  },
  {
   "cell_type": "code",
   "execution_count": 24,
   "metadata": {},
   "outputs": [
    {
     "data": {
      "text/plain": [
       "array([[0, 1, 1, 0, 1, 1, 1, 1, 1, 1, 1, 0, 0, 1, 0, 0, 0, 0, 0, 1, 0, 1,\n",
       "        1, 0, 0, 1, 1, 1, 1, 0, 1, 0],\n",
       "       [1, 0, 1, 1, 0, 1, 1, 0, 0, 1, 0, 1, 1, 1, 1, 1, 0, 1, 0, 1, 1, 1,\n",
       "        1, 0, 1, 0, 0, 1, 1, 0, 1, 0]])"
      ]
     },
     "execution_count": 24,
     "metadata": {},
     "output_type": "execute_result"
    }
   ],
   "source": [
    "import numpy as np\n",
    "\n",
    "np.random.seed(seed=0)\n",
    "\n",
    "X_test = np.random.randint(low=0, high=2, size=(2, X.shape[1]))\n",
    "X_test"
   ]
  },
  {
   "cell_type": "markdown",
   "metadata": {},
   "source": [
    "Now we can predict the class label of the two samples using the best model."
   ]
  },
  {
   "cell_type": "code",
   "execution_count": 25,
   "metadata": {},
   "outputs": [
    {
     "data": {
      "text/plain": [
       "array([0, 0])"
      ]
     },
     "execution_count": 25,
     "metadata": {},
     "output_type": "execute_result"
    }
   ],
   "source": [
    "# Implement me\n",
    "y_pred = best_score_param_estimators[0][2].predict(X_test)\n",
    "y_pred"
   ]
  },
  {
   "cell_type": "code",
   "execution_count": null,
   "metadata": {
    "collapsed": true
   },
   "outputs": [],
   "source": []
  }
 ],
 "metadata": {
  "kernelspec": {
   "display_name": "Python 3",
   "language": "python",
   "name": "python3"
  },
  "language_info": {
   "codemirror_mode": {
    "name": "ipython",
    "version": 3
   },
   "file_extension": ".py",
   "mimetype": "text/x-python",
   "name": "python",
   "nbconvert_exporter": "python",
   "pygments_lexer": "ipython3",
   "version": "3.6.8"
  },
  "toc": {
   "base_numbering": 1,
   "nav_menu": {},
   "number_sections": true,
   "sideBar": true,
   "skip_h1_title": false,
   "title_cell": "Table of Contents",
   "title_sidebar": "Contents",
   "toc_cell": true,
   "toc_position": {},
   "toc_section_display": true,
   "toc_window_display": false
  }
 },
 "nbformat": 4,
 "nbformat_minor": 2
}
