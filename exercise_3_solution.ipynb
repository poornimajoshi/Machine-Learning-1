{
 "cells": [
  {
   "cell_type": "markdown",
   "metadata": {
    "toc": true
   },
   "source": [
    "<h1>Table of Contents<span class=\"tocSkip\"></span></h1>\n",
    "<div class=\"toc\"><ul class=\"toc-item\"><li><span><a href=\"#Overview\" data-toc-modified-id=\"Overview-1\"><span class=\"toc-item-num\">1&nbsp;&nbsp;</span>Overview</a></span></li><li><span><a href=\"#Load-data\" data-toc-modified-id=\"Load-data-2\"><span class=\"toc-item-num\">2&nbsp;&nbsp;</span>Load data</a></span></li><li><span><a href=\"#Get-the-features-and-target\" data-toc-modified-id=\"Get-the-features-and-target-3\"><span class=\"toc-item-num\">3&nbsp;&nbsp;</span>Get the features and target</a></span></li><li><span><a href=\"#The-fast-linear-regression-model-(implemented-using-numpy-array)\" data-toc-modified-id=\"The-fast-linear-regression-model-(implemented-using-numpy-array)-4\"><span class=\"toc-item-num\">4&nbsp;&nbsp;</span>The fast linear regression model (implemented using numpy array)</a></span></li><li><span><a href=\"#Train-and-test-the-fast-linear-regression-model\" data-toc-modified-id=\"Train-and-test-the-fast-linear-regression-model-5\"><span class=\"toc-item-num\">5&nbsp;&nbsp;</span>Train and test the fast linear regression model</a></span></li><li><span><a href=\"#Train-and-test-the-sklearn-linear-regression-model\" data-toc-modified-id=\"Train-and-test-the-sklearn-linear-regression-model-6\"><span class=\"toc-item-num\">6&nbsp;&nbsp;</span>Train and test the sklearn linear regression model</a></span></li><li><span><a href=\"#Discussion\" data-toc-modified-id=\"Discussion-7\"><span class=\"toc-item-num\">7&nbsp;&nbsp;</span>Discussion</a></span></li></ul></div>"
   ]
  },
  {
   "cell_type": "markdown",
   "metadata": {},
   "source": [
    "<b>\n",
    "\n",
    "<p>\n",
    "<center>\n",
    "<font size=\"5\">\n",
    "Machine Learning I (DATS 6202 - O10), Spring 2019\n",
    "</font>\n",
    "</center>\n",
    "</p>\n",
    "\n",
    "<p>\n",
    "<center>\n",
    "<font size=\"4\">\n",
    "Exercise 3 (Solution)\n",
    "</font>\n",
    "</center>\n",
    "</p>\n",
    "\n",
    "<p>\n",
    "<center>\n",
    "<font size=\"3\">\n",
    "Data Science, Columbian College of Arts & Sciences, George Washington University\n",
    "</font>\n",
    "</center>\n",
    "</p>\n",
    "\n",
    "<p>\n",
    "<center>\n",
    "<font size=\"3\">\n",
    "Author: Yuxiao Huang\n",
    "</font>\n",
    "</center>\n",
    "</p>\n",
    "\n",
    "</b>"
   ]
  },
  {
   "cell_type": "markdown",
   "metadata": {},
   "source": [
    "# Overview\n",
    "- Apply Linear Regression on the Housing dataset\n",
    "- Particularly, you should implement your own (fast) model (using numpy array)\n",
    "- Complete the missing parts indicated by # Implement me\n",
    "- Particularly, the code should\n",
    "    - be bug-free (while the output produced by your solution being the same as the provided output does not necessarily mean your code is bug-free, it is very likely that there is a bug in your code when the two kinds of output are different)\n",
    "    - be commented"
   ]
  },
  {
   "cell_type": "markdown",
   "metadata": {},
   "source": [
    "# Load data"
   ]
  },
  {
   "cell_type": "code",
   "execution_count": 1,
   "metadata": {
    "collapsed": true
   },
   "outputs": [],
   "source": [
    "import pandas as pd\n",
    "\n",
    "df = pd.read_csv('https://raw.githubusercontent.com/rasbt/'\n",
    "                 'python-machine-learning-book-2nd-edition'\n",
    "                 '/master/code/ch10/housing.data.txt',\n",
    "                 header=None,\n",
    "                 sep='\\s+')\n",
    "\n",
    "df.columns = ['CRIM', 'ZN', 'INDUS', 'CHAS', \n",
    "              'NOX', 'RM', 'AGE', 'DIS', 'RAD', \n",
    "              'TAX', 'PTRATIO', 'B', 'LSTAT', 'MEDV']\n",
    "\n",
    "target = 'MEDV'"
   ]
  },
  {
   "cell_type": "markdown",
   "metadata": {},
   "source": [
    "# Get the features and target"
   ]
  },
  {
   "cell_type": "code",
   "execution_count": 2,
   "metadata": {
    "collapsed": true
   },
   "outputs": [],
   "source": [
    "# Implement me\n",
    "X = df.drop(columns=[target])\n",
    "y = df[target]"
   ]
  },
  {
   "cell_type": "markdown",
   "metadata": {},
   "source": [
    "# The fast linear regression model (implemented using numpy array)"
   ]
  },
  {
   "cell_type": "code",
   "execution_count": 3,
   "metadata": {
    "collapsed": true
   },
   "outputs": [],
   "source": [
    "from sklearn.base import BaseEstimator, RegressorMixin\n",
    "import numpy as np\n",
    "\n",
    "class MyFastLinearRegression(BaseEstimator, RegressorMixin):\n",
    "    \"\"\"The fast linear regression model (implemented using numpy array)\"\"\"\n",
    "    \n",
    "    def __init__(self, n_iter=100, eta=10 ** -4, random_state=0):\n",
    "        # The number of iterations\n",
    "        self.n_iter = n_iter\n",
    "        # The learning rate\n",
    "        self.eta = eta\n",
    "        # The random state\n",
    "        self.random_state = random_state\n",
    "\n",
    "    def fit(self, X, y):\n",
    "        \"\"\"\n",
    "        The fit function\n",
    "        \n",
    "        Parameters\n",
    "        ----------\n",
    "        X : the feature matrix\n",
    "        y : the target vector\n",
    "        \"\"\"\n",
    "        \n",
    "        # Implement me\n",
    "        # Initialize the weight for features x0 (the dummy feature), x1, x2, ..., xn\n",
    "        self.w = np.zeros(1 + X.shape[1])\n",
    "\n",
    "        # For each iteration\n",
    "        for _ in range(self.n_iter):\n",
    "            # Get the net_input\n",
    "            net_input = self.net_input(X)\n",
    "            \n",
    "            # Get the errors\n",
    "            errors = y - net_input\n",
    "            \n",
    "            # Get the update (of the weight) for features x1, x2, ..., xn\n",
    "            self.w[1:] += self.eta * X.T.dot(errors)\n",
    "            \n",
    "            # Get the update (of the weight) for the dummy feature, x0\n",
    "            self.w[0] += self.eta * errors.sum()\n",
    "\n",
    "    def net_input(self, X):\n",
    "        \"\"\"\n",
    "        Get the net input\n",
    "        \n",
    "        Parameters\n",
    "        ----------\n",
    "        X : the feature matrix\n",
    "        \n",
    "        Returns\n",
    "        ----------\n",
    "        The net input\n",
    "       \n",
    "        \"\"\"\n",
    "        \n",
    "        # Implement me\n",
    "        return np.dot(X, self.w[1:]) + self.w[0]\n",
    "\n",
    "    def predict(self, X):\n",
    "        \"\"\"\n",
    "        The predict function\n",
    "        \n",
    "        Parameters\n",
    "        ----------\n",
    "        X : the feature matrix\n",
    "        \n",
    "        Returns\n",
    "        ----------\n",
    "        The predicted value of the target\n",
    "        \"\"\"\n",
    "        \n",
    "        # Implement me\n",
    "        return self.net_input(X)"
   ]
  },
  {
   "cell_type": "markdown",
   "metadata": {},
   "source": [
    "# Train and test the fast linear regression model"
   ]
  },
  {
   "cell_type": "code",
   "execution_count": 4,
   "metadata": {},
   "outputs": [
    {
     "name": "stdout",
     "output_type": "stream",
     "text": [
      "0.32329520498092723 0.4907918945638258\n"
     ]
    }
   ],
   "source": [
    "from sklearn.pipeline import Pipeline\n",
    "from sklearn.preprocessing import StandardScaler\n",
    "from sklearn.model_selection import cross_val_score\n",
    "from sklearn.model_selection import KFold\n",
    "\n",
    "# Create the pipeline with StandardScaler and MyFastLinearRegression\n",
    "# Implement me\n",
    "pipe_mflr = Pipeline([('StandardScaler', StandardScaler()), ('MyFastLinearRegression', MyFastLinearRegression())])\n",
    "\n",
    "scores = cross_val_score(pipe_mflr,\n",
    "                         X,\n",
    "                         y,\n",
    "                         cv=KFold(n_splits=10,\n",
    "                                  random_state=0))\n",
    "\n",
    "print(scores.mean(), scores.std())"
   ]
  },
  {
   "cell_type": "markdown",
   "metadata": {
    "collapsed": true
   },
   "source": [
    "# Train and test the sklearn linear regression model"
   ]
  },
  {
   "cell_type": "code",
   "execution_count": 5,
   "metadata": {},
   "outputs": [
    {
     "name": "stdout",
     "output_type": "stream",
     "text": [
      "0.2025289900605652 0.5952960169512242\n"
     ]
    }
   ],
   "source": [
    "from sklearn.linear_model import LinearRegression\n",
    "\n",
    "# Create the pipeline with StandardScaler and LinearRegression\n",
    "# Implement me\n",
    "pipe_sklr = Pipeline([('StandardScaler', StandardScaler()), ('LinearRegression', LinearRegression())])\n",
    "\n",
    "scores = cross_val_score(pipe_sklr,\n",
    "                         X,\n",
    "                         y,\n",
    "                         cv=KFold(n_splits=10,\n",
    "                                  random_state=0))\n",
    "\n",
    "print(scores.mean(), scores.std())"
   ]
  },
  {
   "cell_type": "markdown",
   "metadata": {},
   "source": [
    "# Discussion\n",
    "The results in sections 5 and 6 show that, the model we implemented is actually more accurate and stable than the sklearn model. However, this is not a fair comparison since I (somewhat) fine-tuned the hyperparameters of our model. Later we will discuss the best practice for (serious) hyperparameter tuning and model selection."
   ]
  },
  {
   "cell_type": "code",
   "execution_count": null,
   "metadata": {
    "collapsed": true
   },
   "outputs": [],
   "source": []
  }
 ],
 "metadata": {
  "kernelspec": {
   "display_name": "Python 3",
   "language": "python",
   "name": "python3"
  },
  "language_info": {
   "codemirror_mode": {
    "name": "ipython",
    "version": 3
   },
   "file_extension": ".py",
   "mimetype": "text/x-python",
   "name": "python",
   "nbconvert_exporter": "python",
   "pygments_lexer": "ipython3",
   "version": "3.6.3"
  },
  "toc": {
   "base_numbering": 1,
   "nav_menu": {},
   "number_sections": true,
   "sideBar": true,
   "skip_h1_title": false,
   "title_cell": "Table of Contents",
   "title_sidebar": "Contents",
   "toc_cell": true,
   "toc_position": {},
   "toc_section_display": true,
   "toc_window_display": false
  }
 },
 "nbformat": 4,
 "nbformat_minor": 2
}
