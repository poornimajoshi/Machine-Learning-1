{
 "cells": [
  {
   "cell_type": "markdown",
   "metadata": {
    "toc": true
   },
   "source": [
    "<h1>Table of Contents<span class=\"tocSkip\"></span></h1>\n",
    "<div class=\"toc\"><ul class=\"toc-item\"><li><span><a href=\"#Overview\" data-toc-modified-id=\"Overview-1\"><span class=\"toc-item-num\">1&nbsp;&nbsp;</span>Overview</a></span></li><li><span><a href=\"#Generate-the-Features\" data-toc-modified-id=\"Generate-the-Features-2\"><span class=\"toc-item-num\">2&nbsp;&nbsp;</span>Generate the Features</a></span></li><li><span><a href=\"#Generate-Logical-AND-Data\" data-toc-modified-id=\"Generate-Logical-AND-Data-3\"><span class=\"toc-item-num\">3&nbsp;&nbsp;</span>Generate Logical AND Data</a></span></li><li><span><a href=\"#Generate-Logical-OR-Data\" data-toc-modified-id=\"Generate-Logical-OR-Data-4\"><span class=\"toc-item-num\">4&nbsp;&nbsp;</span>Generate Logical OR Data</a></span></li><li><span><a href=\"#Generate-Logical-XOR-Data\" data-toc-modified-id=\"Generate-Logical-XOR-Data-5\"><span class=\"toc-item-num\">5&nbsp;&nbsp;</span>Generate Logical XOR Data</a></span></li><li><span><a href=\"#The-plot-function\" data-toc-modified-id=\"The-plot-function-6\"><span class=\"toc-item-num\">6&nbsp;&nbsp;</span>The plot function</a></span></li><li><span><a href=\"#Plot-the-Logical-AND-Data\" data-toc-modified-id=\"Plot-the-Logical-AND-Data-7\"><span class=\"toc-item-num\">7&nbsp;&nbsp;</span>Plot the Logical AND Data</a></span></li><li><span><a href=\"#Plot-the-Logical-OR-Data\" data-toc-modified-id=\"Plot-the-Logical-OR-Data-8\"><span class=\"toc-item-num\">8&nbsp;&nbsp;</span>Plot the Logical OR Data</a></span></li><li><span><a href=\"#Plot-the-Logical-XOR-Data\" data-toc-modified-id=\"Plot-the-Logical-XOR-Data-9\"><span class=\"toc-item-num\">9&nbsp;&nbsp;</span>Plot the Logical XOR Data</a></span></li><li><span><a href=\"#Discussion\" data-toc-modified-id=\"Discussion-10\"><span class=\"toc-item-num\">10&nbsp;&nbsp;</span>Discussion</a></span></li><li><span><a href=\"#The-perceptron-classifier\" data-toc-modified-id=\"The-perceptron-classifier-11\"><span class=\"toc-item-num\">11&nbsp;&nbsp;</span>The perceptron classifier</a></span></li><li><span><a href=\"#Train-and-Test-the-Perceptron-on-the-Logical-AND-Data\" data-toc-modified-id=\"Train-and-Test-the-Perceptron-on-the-Logical-AND-Data-12\"><span class=\"toc-item-num\">12&nbsp;&nbsp;</span>Train and Test the Perceptron on the Logical AND Data</a></span></li><li><span><a href=\"#Train-and-Test-the-Perceptron-on-the-Logical-OR-Data\" data-toc-modified-id=\"Train-and-Test-the-Perceptron-on-the-Logical-OR-Data-13\"><span class=\"toc-item-num\">13&nbsp;&nbsp;</span>Train and Test the Perceptron on the Logical OR Data</a></span></li><li><span><a href=\"#Train-and-Test-the-Perceptron-on-the-Logical-XOR-Data\" data-toc-modified-id=\"Train-and-Test-the-Perceptron-on-the-Logical-XOR-Data-14\"><span class=\"toc-item-num\">14&nbsp;&nbsp;</span>Train and Test the Perceptron on the Logical XOR Data</a></span></li><li><span><a href=\"#Discussion\" data-toc-modified-id=\"Discussion-15\"><span class=\"toc-item-num\">15&nbsp;&nbsp;</span>Discussion</a></span></li></ul></div>"
   ]
  },
  {
   "cell_type": "markdown",
   "metadata": {},
   "source": [
    "<b>\n",
    "\n",
    "<p>\n",
    "<center>\n",
    "<font size=\"5\">\n",
    "Machine Learning I (DATS 6202 - O10), Spring 2019\n",
    "</font>\n",
    "</center>\n",
    "</p>\n",
    "\n",
    "<p>\n",
    "<center>\n",
    "<font size=\"4\">\n",
    "Exercise 4 (Solution)\n",
    "</font>\n",
    "</center>\n",
    "</p>\n",
    "\n",
    "<p>\n",
    "<center>\n",
    "<font size=\"3\">\n",
    "Data Science, Columbian College of Arts & Sciences, George Washington University\n",
    "</font>\n",
    "</center>\n",
    "</p>\n",
    "\n",
    "<p>\n",
    "<center>\n",
    "<font size=\"3\">\n",
    "Author: Yuxiao Huang\n",
    "</font>\n",
    "</center>\n",
    "</p>\n",
    "\n",
    "</b>"
   ]
  },
  {
   "cell_type": "markdown",
   "metadata": {},
   "source": [
    "# Overview\n",
    "- Apply Perceptron to (simulated) linearly separable and non-linearly separable data\n",
    "- Particularly, you should implement your own model (using numpy array)\n",
    "- Complete the missing parts indicated by # Implement me\n",
    "- Particularly, the code should\n",
    "    - be bug-free (while the output produced by your solution being the same as the provided output does not necessarily mean your code is bug-free, it is very likely that there is a bug in your code when the two kinds of output are different)\n",
    "    - be commented"
   ]
  },
  {
   "cell_type": "code",
   "execution_count": 1,
   "metadata": {
    "collapsed": true
   },
   "outputs": [],
   "source": [
    "import warnings\n",
    "warnings.filterwarnings('ignore')"
   ]
  },
  {
   "cell_type": "markdown",
   "metadata": {},
   "source": [
    "# Generate the Features"
   ]
  },
  {
   "cell_type": "code",
   "execution_count": 2,
   "metadata": {
    "collapsed": true
   },
   "outputs": [],
   "source": [
    "import numpy as np\n",
    "np.random.seed(1)\n",
    "\n",
    "X_train = np.random.randint(2, size=(100, 2))\n",
    "X_test = np.random.randint(2, size=(100, 2))"
   ]
  },
  {
   "cell_type": "markdown",
   "metadata": {},
   "source": [
    "# Generate Logical AND Data"
   ]
  },
  {
   "cell_type": "code",
   "execution_count": 3,
   "metadata": {
    "collapsed": true
   },
   "outputs": [],
   "source": [
    "y_logical_and_train = np.logical_and(X_train[:, 0], X_train[:, 1])\n",
    "y_logical_and_test = np.logical_and(X_test[:, 0], X_test[:, 1])"
   ]
  },
  {
   "cell_type": "markdown",
   "metadata": {},
   "source": [
    "# Generate Logical OR Data"
   ]
  },
  {
   "cell_type": "code",
   "execution_count": 4,
   "metadata": {
    "collapsed": true
   },
   "outputs": [],
   "source": [
    "y_logical_or_train = np.logical_or(X_train[:, 0], X_train[:, 1])\n",
    "y_logical_or_test = np.logical_or(X_test[:, 0], X_test[:, 1])"
   ]
  },
  {
   "cell_type": "markdown",
   "metadata": {},
   "source": [
    "# Generate Logical XOR Data"
   ]
  },
  {
   "cell_type": "code",
   "execution_count": 5,
   "metadata": {
    "collapsed": true
   },
   "outputs": [],
   "source": [
    "y_logical_xor_train = np.logical_xor(X_train[:, 0], X_train[:, 1])\n",
    "y_logical_xor_test = np.logical_xor(X_test[:, 0], X_test[:, 1])"
   ]
  },
  {
   "cell_type": "markdown",
   "metadata": {},
   "source": [
    "# The plot function"
   ]
  },
  {
   "cell_type": "code",
   "execution_count": 6,
   "metadata": {
    "collapsed": true,
    "scrolled": true
   },
   "outputs": [],
   "source": [
    "import matplotlib.pyplot as plt\n",
    "\n",
    "def plot(X, y, title):\n",
    "    \"\"\"\n",
    "    Draw the scatter plot\n",
    "    \n",
    "    Parameters\n",
    "    ----------\n",
    "    X : the feature matrix\n",
    "    y : the target vector\n",
    "    title : the title of the scatter plot\n",
    "    \"\"\"\n",
    "\n",
    "    # The scatter plot\n",
    "    plt.scatter(X[y == 1, 0],\n",
    "                X[y == 1, 1],\n",
    "                s=100,\n",
    "                c='b',\n",
    "                marker='x',\n",
    "                label='1')\n",
    "    plt.scatter(X[y == 0, 0],\n",
    "                X[y == 0, 1],\n",
    "                s=100,\n",
    "                c='r',\n",
    "                marker='s',\n",
    "                label='0')\n",
    "\n",
    "    # The x-axis\n",
    "    plt.xlim([-1, 2])\n",
    "    plt.xticks([-1, 0, 1, 2], fontsize=20)\n",
    "    plt.xlabel('x1', fontsize=20)\n",
    "\n",
    "    # The y-axis\n",
    "    plt.ylim([-1, 2])\n",
    "    plt.yticks([-1, 0, 1, 2], fontsize=20)\n",
    "    plt.ylabel('x2', fontsize=20)\n",
    "\n",
    "    # The title and legend\n",
    "    plt.title(title, fontsize=20)\n",
    "    plt.legend(loc='best', fontsize=20)\n",
    "    \n",
    "    plt.tight_layout()\n",
    "    plt.show()"
   ]
  },
  {
   "cell_type": "markdown",
   "metadata": {},
   "source": [
    "# Plot the Logical AND Data"
   ]
  },
  {
   "cell_type": "code",
   "execution_count": 7,
   "metadata": {
    "scrolled": true
   },
   "outputs": [
    {
     "data": {
      "image/png": "[encoded data removed]",
      "text/plain": [
       "<Figure size 432x288 with 1 Axes>"
      ]
     },
     "metadata": {
      "needs_background": "light"
     },
     "output_type": "display_data"
    }
   ],
   "source": [
    "plot(X_train, y_logical_and_train, 'Logical AND')"
   ]
  },
  {
   "cell_type": "markdown",
   "metadata": {},
   "source": [
    "# Plot the Logical OR Data"
   ]
  },
  {
   "cell_type": "code",
   "execution_count": 8,
   "metadata": {
    "scrolled": true
   },
   "outputs": [
    {
     "data": {
      "image/png": "[encoded data removed]",
      "text/plain": [
       "<Figure size 432x288 with 1 Axes>"
      ]
     },
     "metadata": {
      "needs_background": "light"
     },
     "output_type": "display_data"
    }
   ],
   "source": [
    "plot(X_train, y_logical_or_train, 'Logical OR')"
   ]
  },
  {
   "cell_type": "markdown",
   "metadata": {},
   "source": [
    "# Plot the Logical XOR Data"
   ]
  },
  {
   "cell_type": "code",
   "execution_count": 9,
   "metadata": {
    "scrolled": false
   },
   "outputs": [
    {
     "data": {
      "image/png": "[encoded data removed]",
      "text/plain": [
       "<Figure size 432x288 with 1 Axes>"
      ]
     },
     "metadata": {
      "needs_background": "light"
     },
     "output_type": "display_data"
    }
   ],
   "source": [
    "plot(X_train, y_logical_xor_train, 'Logical XOR')"
   ]
  },
  {
   "cell_type": "markdown",
   "metadata": {},
   "source": [
    "# Discussion\n",
    "Can you verify whether the data were generated correctly by checking the scatter plots above?"
   ]
  },
  {
   "cell_type": "markdown",
   "metadata": {},
   "source": [
    "# The perceptron classifier"
   ]
  },
  {
   "cell_type": "code",
   "execution_count": 10,
   "metadata": {
    "collapsed": true
   },
   "outputs": [],
   "source": [
    "from sklearn.base import BaseEstimator, ClassifierMixin\n",
    "\n",
    "class MyPerceptron(BaseEstimator, ClassifierMixin):\n",
    "    \"\"\"The perceptron classifier (implemented using numpy array)\"\"\"\n",
    "        \n",
    "    def __init__(self, n_iter=100, eta=0.01):\n",
    "        # The number of iterations\n",
    "        self.n_iter = n_iter\n",
    "        \n",
    "        # The learning rate\n",
    "        self.eta = eta\n",
    "\n",
    "    def fit(self, X, y):\n",
    "        \"\"\"\n",
    "        The fit function\n",
    "        \n",
    "        Parameters\n",
    "        ----------\n",
    "        X : the feature matrix\n",
    "        y : the target vector\n",
    "        \"\"\"\n",
    "        \n",
    "        # Implement me\n",
    "        # Initialize the weight (using zero) for features x0 (the dummy feature), x1, x2, ..., xn \n",
    "        self.w = np.zeros(1 + X.shape[1])\n",
    "\n",
    "        # For each iteration\n",
    "        for _ in range(self.n_iter):\n",
    "            # Get the net input Z (using the net_input function defined below)\n",
    "            z = self.net_input(X)\n",
    "            \n",
    "            # Get the activation f (using the activation function defined below)\n",
    "            f = self.activation(z)\n",
    "            \n",
    "            # Get the errors\n",
    "            errors = y - f\n",
    "            \n",
    "            # Update the weights for features x1, x2, ..., xn\n",
    "            self.w[1:] += self.eta * X.T.dot(errors)\n",
    "            \n",
    "            # Update the weights for the dummy feature, x0\n",
    "            self.w[0] += self.eta * errors.sum()\n",
    "\n",
    "    def net_input(self, X):\n",
    "        \"\"\"\n",
    "        Get the net input z\n",
    "        \n",
    "        Parameters\n",
    "        ----------\n",
    "        X : the feature matrix\n",
    "        \n",
    "        Returns\n",
    "        ----------\n",
    "        The net input\n",
    "       \n",
    "        \"\"\"\n",
    "        \n",
    "        # Implement me\n",
    "        return np.matmul(X, self.w[1:]) + self.w[0]\n",
    "    \n",
    "    def activation(self, z):\n",
    "        \"\"\"\n",
    "        Here we use the hard limit function, f(z), as the activation function:\n",
    "        f(z) = 1, if z >=0\n",
    "        f(z) = 0, if z < 0\n",
    "        \n",
    "        Parameters\n",
    "        ----------\n",
    "        z : the net input\n",
    "        \n",
    "        Returns\n",
    "        ----------\n",
    "        f(z)      \n",
    "        \"\"\"\n",
    "\n",
    "        # Implement me\n",
    "        return (z >= 0) * 1\n",
    "        \n",
    "    def predict(self, X):\n",
    "        \"\"\"\n",
    "        The predict function\n",
    "        \n",
    "        Parameters\n",
    "        ----------\n",
    "        X : the feature matrix\n",
    "        \n",
    "        Returns\n",
    "        ----------\n",
    "        The predicted class labels of the target\n",
    "        \"\"\"\n",
    "\n",
    "        # Implement me\n",
    "        # Get the net input z (using the net_input function defined above)\n",
    "        z = self.net_input(X)\n",
    "\n",
    "        # Get the activation f (using the activation function defined above)\n",
    "        f = self.activation(z)\n",
    "            \n",
    "        return f"
   ]
  },
  {
   "cell_type": "markdown",
   "metadata": {},
   "source": [
    "# Train and Test the Perceptron on the Logical AND Data"
   ]
  },
  {
   "cell_type": "code",
   "execution_count": 11,
   "metadata": {},
   "outputs": [
    {
     "name": "stdout",
     "output_type": "stream",
     "text": [
      "------------------------\n",
      "The weights are:\n",
      "w0:  -0.5\n",
      "w1:  0.4\n",
      "w2:  0.49\n"
     ]
    }
   ],
   "source": [
    "my_perceptron = MyPerceptron()\n",
    "my_perceptron.fit(X_train, y_logical_and_train)\n",
    "\n",
    "print('------------------------')\n",
    "print('The weights are:')\n",
    "print('w0: ', round(my_perceptron.w[0], 2))\n",
    "print('w1: ', round(my_perceptron.w[1], 2))\n",
    "print('w2: ', round(my_perceptron.w[2], 2))"
   ]
  },
  {
   "cell_type": "code",
   "execution_count": 12,
   "metadata": {},
   "outputs": [
    {
     "name": "stdout",
     "output_type": "stream",
     "text": [
      "The nubmer of wrong predictions: 0\n"
     ]
    }
   ],
   "source": [
    "y_pred = my_perceptron.predict(X_test)\n",
    "\n",
    "print('The nubmer of wrong predictions:', abs(y_logical_and_test - y_pred).sum())"
   ]
  },
  {
   "cell_type": "markdown",
   "metadata": {},
   "source": [
    "# Train and Test the Perceptron on the Logical OR Data"
   ]
  },
  {
   "cell_type": "code",
   "execution_count": 13,
   "metadata": {
    "scrolled": true
   },
   "outputs": [
    {
     "name": "stdout",
     "output_type": "stream",
     "text": [
      "------------------------\n",
      "The weights are:\n",
      "w0:  -0.08\n",
      "w1:  0.52\n",
      "w2:  0.49\n",
      "The nubmer of wrong predictions: 0\n"
     ]
    }
   ],
   "source": [
    "my_perceptron = MyPerceptron()\n",
    "my_perceptron.fit(X_train, y_logical_or_train)\n",
    "\n",
    "print('------------------------')\n",
    "print('The weights are:')\n",
    "print('w0: ', round(my_perceptron.w[0], 2))\n",
    "print('w1: ', round(my_perceptron.w[1], 2))\n",
    "print('w2: ', round(my_perceptron.w[2], 2))\n",
    "\n",
    "y_pred = my_perceptron.predict(X_test)\n",
    "\n",
    "print('The nubmer of wrong predictions:', abs(y_logical_or_test - y_pred).sum())"
   ]
  },
  {
   "cell_type": "markdown",
   "metadata": {},
   "source": [
    "# Train and Test the Perceptron on the Logical XOR Data"
   ]
  },
  {
   "cell_type": "code",
   "execution_count": 14,
   "metadata": {
    "scrolled": true
   },
   "outputs": [
    {
     "name": "stdout",
     "output_type": "stream",
     "text": [
      "------------------------\n",
      "The weights are:\n",
      "w0:  -0.05\n",
      "w1:  -0.08\n",
      "w2:  -0.14\n",
      "The nubmer of wrong predictions: 49\n"
     ]
    }
   ],
   "source": [
    "my_perceptron = MyPerceptron()\n",
    "my_perceptron.fit(X_train, y_logical_xor_train)\n",
    "\n",
    "print('------------------------')\n",
    "print('The weights are:')\n",
    "print('w0: ', round(my_perceptron.w[0], 2))\n",
    "print('w1: ', round(my_perceptron.w[1], 2))\n",
    "print('w2: ', round(my_perceptron.w[2], 2))\n",
    "\n",
    "y_pred = my_perceptron.predict(X_test)\n",
    "\n",
    "print('The nubmer of wrong predictions:', abs(y_logical_xor_test - y_pred).sum())"
   ]
  },
  {
   "cell_type": "markdown",
   "metadata": {},
   "source": [
    "# Discussion\n",
    "As shown above, when applied to linearly separable data (logical AND and logical OR), perceptron makes no wrong predictions (can you prove this using the weights of the perceptron displayed above?). However, when applied to non-linearly separable data (logical XOR), perceptron makes wrong predictions almost half of the time. This is why in reality we do not use perceptron itself as a classifier. Instead, we combine them (hierarchically) to form a network to address non-linearly separable problems. Such network is called *Neural Network* (a.k.a., Multi-layer Perceptron). In Homework 5, we will discuss a simple neural network to classify the logical XOR data."
   ]
  },
  {
   "cell_type": "code",
   "execution_count": null,
   "metadata": {
    "collapsed": true
   },
   "outputs": [],
   "source": []
  }
 ],
 "metadata": {
  "kernelspec": {
   "display_name": "Python 3",
   "language": "python",
   "name": "python3"
  },
  "language_info": {
   "codemirror_mode": {
    "name": "ipython",
    "version": 3
   },
   "file_extension": ".py",
   "mimetype": "text/x-python",
   "name": "python",
   "nbconvert_exporter": "python",
   "pygments_lexer": "ipython3",
   "version": "3.6.8"
  },
  "toc": {
   "base_numbering": 1,
   "nav_menu": {},
   "number_sections": true,
   "sideBar": true,
   "skip_h1_title": false,
   "title_cell": "Table of Contents",
   "title_sidebar": "Contents",
   "toc_cell": true,
   "toc_position": {},
   "toc_section_display": true,
   "toc_window_display": false
  }
 },
 "nbformat": 4,
 "nbformat_minor": 2
}
